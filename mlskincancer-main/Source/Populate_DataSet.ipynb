{
 "cells": [
  {
   "cell_type": "code",
   "execution_count": 1,
   "metadata": {},
   "outputs": [
    {
     "name": "stderr",
     "output_type": "stream",
     "text": [
      "Using TensorFlow backend.\n"
     ]
    }
   ],
   "source": [
    "# This file should be contained in the same folder with the initial data set folder\n",
    "\n",
    "# Used in Data Preparation\n",
    "import os # Used to create folders\n",
    "from os import listdir # Used to access images folders\n",
    "from os.path import isfile, join # Used to access images files\n",
    "import numpy as np\n",
    "import pandas as pd\n",
    "from itertools import product\n",
    "from PIL import Image # Used to read images\n",
    "from keras.preprocessing.image import ImageDataGenerator # Used to populate images\n"
   ]
  },
  {
   "cell_type": "code",
   "execution_count": null,
   "metadata": {},
   "outputs": [],
   "source": [
    "if __name__ == '_main__':\n",
    "    copies_per_image = 4\n",
    "    np.random.seed(123)\n",
    "\n",
    "    count = 0\n",
    "    #initialize a dataframe for the count of train, validate and test images\n",
    "    sets_counter = pd.DataFrame([[0, 0, 0]], columns=['train', 'valid', 'test'], index=['counter'])\n",
    "    #the ImageDataGenerator accepts the original data, randomly transforms it, and returns only the new, transformed data.\n",
    "    datagen = ImageDataGenerator(featurewise_center=False,\n",
    "                                 featurewise_std_normalization=False,\n",
    "                                 rotation_range=20,\n",
    "                                 width_shift_range=0.2,\n",
    "                                 height_shift_range=0.2,\n",
    "                                 horizontal_flip=True)\n",
    "    \n",
    "    #make the below folders in the below paths\n",
    "    os.mkdir('augmented_dataset')\n",
    "    os.mkdir('augmented_dataset/train')\n",
    "    os.mkdir('augmented_dataset/train/benign')\n",
    "    os.mkdir('augmented_dataset/train/malignant')\n",
    "    os.mkdir('augmented_dataset/valid')\n",
    "    os.mkdir('augmented_dataset/valid/benign')\n",
    "    os.mkdir('augmented_dataset/valid/malignant')\n",
    "    os.mkdir('augmented_dataset/test')\n",
    "    os.mkdir('augmented_dataset/test/test_images')\n",
    "\n",
    "    #for every image \n",
    "    for a, b in product(['train', 'test'], ['benign', 'malignant']):\n",
    "        folder_path = 'data/' + a + '/' + b\n",
    "    \n",
    "        for f in listdir(folder_path):\n",
    "            image_path = join(folder_path, f)\n",
    "        \n",
    "            # if the path exists\n",
    "            if isfile(image_path):\n",
    "                count += 1\n",
    "                # convert each image into RGB triplette  array\n",
    "                im = np.expand_dims(Image.open(image_path).convert(\"RGB\"), 0)\n",
    "                datagen.fit(im)\n",
    "            \n",
    "                # split the image in train (70 %), validate (10%), test(20 %) based on r value (produced uniformly)\n",
    "                for _ in range(copies_per_image):\n",
    "                    save_to_dir = 'augmented_dataset/'\n",
    "                    r = np.random.uniform()\n",
    "            \n",
    "                    if r < 0.1:\n",
    "                        sets_counter['valid'] += 1\n",
    "                        save_to_dir = join(save_to_dir, 'valid', b)\n",
    "                    elif r < 0.3:\n",
    "                        sets_counter['test'] += 1\n",
    "                        save_to_dir = join(save_to_dir, 'test/test_images')\n",
    "                    else:\n",
    "                        sets_counter['train'] += 1\n",
    "                        save_to_dir = join(save_to_dir, 'train', b)\n",
    "            \n",
    "                    for x in datagen.flow(im,\n",
    "                                          save_to_dir=save_to_dir,\n",
    "                                          save_prefix=b + '_' + str(count),\n",
    "                                          save_format='jpg'):\n",
    "                        break # Only one picture\n",
    "            \n",
    "                if count % 1000 == 0:\n",
    "                    print(count, 'images were processed')\n",
    "    #print the number of images processed           \n",
    "    print(count, 'images were processed')\n",
    "    #print the dataframe containing the images per train, validate and test\n",
    "    print(sets_counter)\n"
   ]
  }
 ],
 "metadata": {
  "kernelspec": {
   "display_name": "Python 3",
   "language": "python",
   "name": "python3"
  },
  "language_info": {
   "codemirror_mode": {
    "name": "ipython",
    "version": 3
   },
   "file_extension": ".py",
   "mimetype": "text/x-python",
   "name": "python",
   "nbconvert_exporter": "python",
   "pygments_lexer": "ipython3",
   "version": "3.7.9"
  }
 },
 "nbformat": 4,
 "nbformat_minor": 4
}
